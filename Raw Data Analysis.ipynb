{
 "cells": [
  {
   "cell_type": "code",
   "execution_count": 8,
   "id": "25cd9d0c-2ade-4e8b-ba74-87039554e5fe",
   "metadata": {},
   "outputs": [],
   "source": [
    "import os\n",
    "import pandas as pd"
   ]
  },
  {
   "cell_type": "code",
   "execution_count": 7,
   "id": "0b8dc4aa-b355-4f9f-aeb3-1ba8892e7569",
   "metadata": {},
   "outputs": [
    {
     "name": "stdout",
     "output_type": "stream",
     "text": [
      "3XuyHXh1k92uQoOyiUDr ['session.json', 'snapshots.json']\n",
      "jNNLEB87PnIupHntDPDK ['session.json', 'snapshots.json']\n",
      "nx39Y3m8fACWC1hRraqB ['session.json', 'snapshots.json']\n",
      "6Yx20Y9IEnYY3165J5hb ['dataset-metadata.json', 'session.json', 'snapshots.json', 'dataset.csv']\n",
      "9kBX86m8AhSzrgrQK9a8 ['session.json', 'snapshots.json']\n",
      "X6Ymc3XbLTel9Pyixx29 ['dataset-metadata.json', 'session.json', 'snapshots.json', 'dataset.csv']\n",
      "Vs9fXwa413iUeX49Odpt ['session.json', 'snapshots.json']\n",
      "tso7fH0OdafDTxbJt3Od ['session.json', 'snapshots.json']\n",
      "ra2o50Hgmig9wIpDEw4I ['dataset-metadata.json', 'session.json', 'snapshots.json', 'dataset.csv']\n",
      "aqEW0vNFUSQk3jKqmU6F ['session.json', 'snapshots.json']\n"
     ]
    }
   ],
   "source": [
    "for folder in os.listdir('data/sessions')[:10]:\n",
    "    try:\n",
    "        print(folder, os.listdir('data/sessions/%s'%(folder)))\n",
    "    except:\n",
    "        pass"
   ]
  },
  {
   "cell_type": "code",
   "execution_count": 14,
   "id": "a82b69c2-c217-4e7d-a1ee-e88ef8f9120a",
   "metadata": {},
   "outputs": [
    {
     "data": {
      "text/html": [
       "<div>\n",
       "<style scoped>\n",
       "    .dataframe tbody tr th:only-of-type {\n",
       "        vertical-align: middle;\n",
       "    }\n",
       "\n",
       "    .dataframe tbody tr th {\n",
       "        vertical-align: top;\n",
       "    }\n",
       "\n",
       "    .dataframe thead th {\n",
       "        text-align: right;\n",
       "    }\n",
       "</style>\n",
       "<table border=\"1\" class=\"dataframe\">\n",
       "  <thead>\n",
       "    <tr style=\"text-align: right;\">\n",
       "      <th></th>\n",
       "      <th>0</th>\n",
       "      <th>13729.087890625</th>\n",
       "      <th>3156.1552734375</th>\n",
       "      <th>6635.91943359375</th>\n",
       "      <th>-3254.32421875</th>\n",
       "      <th>-3191.962890625</th>\n",
       "      <th>7830.64208984375</th>\n",
       "      <th>10561.2646484375</th>\n",
       "      <th>10948.8447265625</th>\n",
       "      <th></th>\n",
       "      <th>1691443808299.948</th>\n",
       "    </tr>\n",
       "  </thead>\n",
       "  <tbody>\n",
       "    <tr>\n",
       "      <th>0</th>\n",
       "      <td>1</td>\n",
       "      <td>10369.352539</td>\n",
       "      <td>-2097.554443</td>\n",
       "      <td>-3001.525879</td>\n",
       "      <td>-5391.172852</td>\n",
       "      <td>-5577.117188</td>\n",
       "      <td>-2691.730957</td>\n",
       "      <td>17.769634</td>\n",
       "      <td>2209.402588</td>\n",
       "      <td></td>\n",
       "      <td>1.691444e+12</td>\n",
       "    </tr>\n",
       "    <tr>\n",
       "      <th>1</th>\n",
       "      <td>2</td>\n",
       "      <td>10073.572266</td>\n",
       "      <td>-5006.410156</td>\n",
       "      <td>-10156.788086</td>\n",
       "      <td>-6105.646484</td>\n",
       "      <td>-6645.307129</td>\n",
       "      <td>-12438.006836</td>\n",
       "      <td>-10010.942383</td>\n",
       "      <td>-6275.296387</td>\n",
       "      <td></td>\n",
       "      <td>1.691444e+12</td>\n",
       "    </tr>\n",
       "    <tr>\n",
       "      <th>2</th>\n",
       "      <td>3</td>\n",
       "      <td>13544.149414</td>\n",
       "      <td>-59.276821</td>\n",
       "      <td>-1532.614258</td>\n",
       "      <td>-3951.028076</td>\n",
       "      <td>-4278.056152</td>\n",
       "      <td>-3178.149414</td>\n",
       "      <td>-744.581238</td>\n",
       "      <td>1370.474731</td>\n",
       "      <td></td>\n",
       "      <td>1.691444e+12</td>\n",
       "    </tr>\n",
       "    <tr>\n",
       "      <th>3</th>\n",
       "      <td>4</td>\n",
       "      <td>14332.919922</td>\n",
       "      <td>3507.122314</td>\n",
       "      <td>6889.455078</td>\n",
       "      <td>-3024.928223</td>\n",
       "      <td>-2977.654297</td>\n",
       "      <td>7704.846680</td>\n",
       "      <td>10433.055664</td>\n",
       "      <td>10787.375000</td>\n",
       "      <td></td>\n",
       "      <td>1.691444e+12</td>\n",
       "    </tr>\n",
       "    <tr>\n",
       "      <th>4</th>\n",
       "      <td>5</td>\n",
       "      <td>11229.470703</td>\n",
       "      <td>-441.759827</td>\n",
       "      <td>349.357727</td>\n",
       "      <td>-4802.897461</td>\n",
       "      <td>-4881.083984</td>\n",
       "      <td>1180.104858</td>\n",
       "      <td>3984.488525</td>\n",
       "      <td>5501.747070</td>\n",
       "      <td></td>\n",
       "      <td>1.691444e+12</td>\n",
       "    </tr>\n",
       "  </tbody>\n",
       "</table>\n",
       "</div>"
      ],
      "text/plain": [
       "   0   13729.087890625   3156.1552734375   6635.91943359375   -3254.32421875  \\\n",
       "0  1      10369.352539      -2097.554443       -3001.525879     -5391.172852   \n",
       "1  2      10073.572266      -5006.410156      -10156.788086     -6105.646484   \n",
       "2  3      13544.149414        -59.276821       -1532.614258     -3951.028076   \n",
       "3  4      14332.919922       3507.122314        6889.455078     -3024.928223   \n",
       "4  5      11229.470703       -441.759827         349.357727     -4802.897461   \n",
       "\n",
       "    -3191.962890625   7830.64208984375   10561.2646484375   10948.8447265625  \\\n",
       "0      -5577.117188       -2691.730957          17.769634        2209.402588   \n",
       "1      -6645.307129      -12438.006836      -10010.942383       -6275.296387   \n",
       "2      -4278.056152       -3178.149414        -744.581238        1370.474731   \n",
       "3      -2977.654297        7704.846680       10433.055664       10787.375000   \n",
       "4      -4881.083984        1180.104858        3984.488525        5501.747070   \n",
       "\n",
       "       1691443808299.948  \n",
       "0           1.691444e+12  \n",
       "1           1.691444e+12  \n",
       "2           1.691444e+12  \n",
       "3           1.691444e+12  \n",
       "4           1.691444e+12  "
      ]
     },
     "execution_count": 14,
     "metadata": {},
     "output_type": "execute_result"
    }
   ],
   "source": [
    "df = pd.read_csv('data/sessions/6Yx20Y9IEnYY3165J5hb/dataset.csv')\n",
    "df[:5]"
   ]
  },
  {
   "cell_type": "code",
   "execution_count": null,
   "id": "1624b4df-140c-4a21-b9ae-87d5305be902",
   "metadata": {},
   "outputs": [],
   "source": [
    "df.colnames = "
   ]
  }
 ],
 "metadata": {
  "kernelspec": {
   "display_name": "Python 3 (ipykernel)",
   "language": "python",
   "name": "python3"
  },
  "language_info": {
   "codemirror_mode": {
    "name": "ipython",
    "version": 3
   },
   "file_extension": ".py",
   "mimetype": "text/x-python",
   "name": "python",
   "nbconvert_exporter": "python",
   "pygments_lexer": "ipython3",
   "version": "3.10.10"
  }
 },
 "nbformat": 4,
 "nbformat_minor": 5
}
